{
 "cells": [
  {
   "cell_type": "markdown",
   "id": "65da0af1-a343-4372-8588-874a5034381b",
   "metadata": {},
   "source": [
    "# Intrinsic Curvature Computations "
   ]
  },
  {
   "cell_type": "markdown",
   "id": "596f780a-1c85-4a7c-9e14-503e0d431339",
   "metadata": {},
   "source": [
    "$\n",
    "\\newcommand{\\bb}[1]{\\mathbb{{#1}}}\n",
    "\\newcommand{\\cl}[1]{\\mathcal{{#1}}}\n",
    "\\newcommand{\\PS}{P_{{\\cl{S}}}}\n",
    "\\newcommand{\\gradS}{\\nabla_{\\cl{S}}}\n",
    "$\n",
    "\n",
    "We have seen in [the previous notebook](Extrinsic.ipynb)  that Gauss curvature of a surface can be computed using the derivative of the normal vector of the surface.  Ever since the Gauss' Theorema Egregium (1827), we also know an alternate, miraculous, *intrinsic* way to compute the Gauss curvature of a surface. By  an \"intrinsic\" way, we mean what a being who lives within the surface is capable of; we mean that there is no need to use any outside information on the ambient space in which the surface may sit. In particular, we will have no need for the surface normal; one only needs a  metric tensor $g$ used to determine lengths and angles from within the surface."
   ]
  },
  {
   "cell_type": "code",
   "execution_count": null,
   "id": "b44b89ba-21fc-4c17-95e7-9ca8036ca918",
   "metadata": {},
   "outputs": [],
   "source": [
    "from netgen.occ import X, Y, Z, Circle, Pnt, Sphere, Box, Cylinder, Ellipsoid, Axes, Glue, OCCGeometry\n",
    "from netgen import meshing\n",
    "from ngsolve import Mesh, Cof, Grad, Integrate, Trace, Cross, Det, OuterProduct, InnerProduct, Normalize\n",
    "from ngsolve import x, y, z, tan, atan2, cos, acos, sin, dx, ds, log, sqrt, pi\n",
    "from ngsolve import CF, H1, VectorFacetSurface, HDivDivSurface, LinearForm, BilinearForm, GridFunction\n",
    "from ngsolve.meshes import MakeStructured2DMesh\n",
    "import ngsolve as ng\n",
    "from ngsolve.webgui import Draw\n",
    "MESHSURF = meshing.MeshingStep.MESHSURFACE"
   ]
  },
  {
   "cell_type": "markdown",
   "id": "4efe57c2-ecde-4caa-a22f-510ba7678461",
   "metadata": {},
   "source": [
    "## Gauss curvature of smooth 2-manifolds \n",
    "\n",
    "From we have seen in [the previous notebook](Extrinsic.ipynb),  we know that Gauss curvature of a surface can be computed easily using the Weingarten tensor or the shape operator:"
   ]
  },
  {
   "cell_type": "code",
   "execution_count": null,
   "id": "c83b5a98-3b5a-4be2-ae32-56a0b05ad2be",
   "metadata": {},
   "outputs": [],
   "source": [
    "def GaussCurvature():\n",
    "    nu = ng.specialcf.normal(3)\n",
    "    W = Grad(nu)\n",
    "    return Det(W + OuterProduct(nu, nu))"
   ]
  },
  {
   "cell_type": "markdown",
   "id": "0d7a2d91-8aea-4773-ac96-83ddbe292d3d",
   "metadata": {},
   "source": [
    "This is the *extrinsic* approach for computing the Gauss curvature. It requires the *normal* vector $\\nu$ of the surface, a vector that does not make sense without the ambient space into which the manifold is embedded.  \n",
    "\n",
    "**Hemisphere example** \n",
    "\n",
    "As an example, consider a hemisperical surface of radius $R$. Its Gauss curvature must be $1/R^2$, the same as the Gauss curvature of a sphere of radius $R$. This agrees with the result computed by the extrinsic numerical computation below."
   ]
  },
  {
   "cell_type": "code",
   "execution_count": null,
   "id": "ceb85ea9-b02f-498f-b279-1b6174a2ccad",
   "metadata": {
    "scrolled": true
   },
   "outputs": [],
   "source": [
    "from netgen.occ import HalfSpace, Vec\n",
    "s = Sphere(Pnt(0,0,0), r=1)\n",
    "h = HalfSpace(Pnt(0,0,0), Vec(0, 0, -1))\n",
    "hemisphere = OCCGeometry((s*h).faces[0], dim=2)\n",
    "hemisph_mesh = Mesh(hemisphere.GenerateMesh(maxh=0.4, perfstepsend=MESHSURF)).Curve(4)\n",
    "\n",
    "Draw(GaussCurvature(), hemisph_mesh);"
   ]
  },
  {
   "cell_type": "markdown",
   "id": "13651d11-bd70-4b66-8b68-caa4ea37574d",
   "metadata": {},
   "source": [
    "We will revisit this example multiple times below."
   ]
  },
  {
   "cell_type": "markdown",
   "id": "c9c0f3e6-5029-47e1-a95a-e7c1b881f3dd",
   "metadata": {},
   "source": [
    "## The metric tensor\n",
    "\n",
    "Surfaces embedded in $\\bb R^3$ obtains its metric tensor $g$ from the ambient Euclidean domain and its embedding. In contrast, a general Riemannian 2-manifold comes with a metric tensor $g$ but has no embedding information.\n",
    "\n",
    "To obtain the metric tensor $g$ of an embedded surface, it is typical to employ a parameter domain and a parameterization or an embedding as shown:"
   ]
  },
  {
   "cell_type": "markdown",
   "id": "aafa9d53-b7e3-4e7b-ab41-7f9edda141c5",
   "metadata": {},
   "source": [
    "<img src=\"./embedding.png\" width=\"40%\">"
   ]
  },
  {
   "cell_type": "markdown",
   "id": "74d91db7-517b-42ad-9322-f32a08262ccc",
   "metadata": {},
   "source": [
    "Here variables $x$ and $y$ lie in the flat paramater domain  and the embedding $\\theta(x, y)$  gives the points on the surface $\\cl S$. The metric $g$ to measure lengths and angles on an embedded surface is then  given by \n",
    "\n",
    "$$\n",
    "g = (\\nabla \\theta)^t (\\nabla \\theta)\n",
    "$$\n",
    "\n",
    "where $\\nabla \\theta$ is the $3\\times 2$ matrix whose columns are derivatives of $\\theta$ with respect to the two parameter variables. Clearly $g$ is a symmetric positive definite matrix field on the parameter domain.\n",
    "\n",
    "**The hemisphere example**\n",
    "\n",
    "As an example, consider the hemisphere again. A convenient paramater domain is the disk underneath the hemisphere."
   ]
  },
  {
   "cell_type": "code",
   "execution_count": null,
   "id": "a79fa36d-0c52-451e-b1a0-503a996e8d93",
   "metadata": {},
   "outputs": [],
   "source": [
    "# x, y in a flat parameter domain, a unit disk: \n",
    "order  = 4\n",
    "param_mesh = Mesh(OCCGeometry(Circle(Pnt(0,0), r=1).Face(), dim=2).GenerateMesh(maxh=0.2)).Curve(order)\n",
    "Draw(param_mesh);"
   ]
  },
  {
   "cell_type": "markdown",
   "id": "e202b643-9792-499c-b1a8-ce1cd10e5590",
   "metadata": {},
   "source": [
    "One can obtain a parameterization for this example by   thinking in spherical coordinates and then writing  the polar angle in terms of the parameter variables in the flat domain."
   ]
  },
  {
   "cell_type": "code",
   "execution_count": null,
   "id": "721233ca-ade6-4eb9-8cf9-970fd3bd208f",
   "metadata": {},
   "outputs": [],
   "source": [
    "# embedding theta(x, y) = (x, y, 0) + u(x,y) for a displacement vector u set below\n",
    "\n",
    "r = sqrt(x**2+y**2)\n",
    "phi = atan2(y,x)\n",
    "u = GridFunction(H1(param_mesh,order=order)**3)\n",
    "u.Interpolate( (cos(phi)*sin(r*pi/2) - x,\n",
    "                sin(phi)*sin(r*pi/2) - y,\n",
    "                cos(r*pi/2)) )"
   ]
  },
  {
   "cell_type": "code",
   "execution_count": null,
   "id": "eeb01105-3783-43ec-96dd-555a16f83668",
   "metadata": {},
   "outputs": [],
   "source": [
    "# display embedding by ngsolve deformation of parameter domain\n",
    "\n",
    "uxy = GridFunction(H1(param_mesh,order=order)**2)\n",
    "uxy.Set ( u[0:2] )\n",
    "param_mesh.SetDeformation(uxy)\n",
    "Draw (u[2], param_mesh, deformation=True)\n",
    "param_mesh.UnsetDeformation()"
   ]
  },
  {
   "cell_type": "markdown",
   "id": "036271cd-e61a-42e4-924e-866c2b793515",
   "metadata": {},
   "source": [
    "Since \n",
    "\n",
    "$$\n",
    "\\theta(x, y) = (x, y, 0) + u(x, y)\n",
    "$$\n",
    "\n",
    "its gradient  is given by \n",
    "$\n",
    "\\nabla \\theta  = [e_1, e_2] + [\\partial_x u, \\partial_y u].\n",
    "$\n",
    "The metric $g = (\\nabla \\theta)^t (\\nabla \\theta)$ is computed from this gradient below. It is then  interpolated  into the Regge finite element space suitable for representing metrics."
   ]
  },
  {
   "cell_type": "code",
   "execution_count": null,
   "id": "5aed0819-54dd-40b4-a18d-b42ed2370fb5",
   "metadata": {},
   "outputs": [],
   "source": [
    "F = CF( (1,0,       # F = grad \\theta\n",
    "         0,1, \n",
    "         0,0), dims=(3,2)) + Grad(u)\n",
    "\n",
    "g = F.trans*F\n",
    "\n",
    "Reg = ng.HCurlCurl(param_mesh, order=3) \n",
    "gh = GridFunction(Reg)\n",
    "gh.Set(g, dual=True, bonus_intorder=4)\n",
    "Draw (gh[0, 0], param_mesh);"
   ]
  },
  {
   "cell_type": "markdown",
   "id": "becd0e58-357c-4716-a06e-cdcfae485947",
   "metadata": {},
   "source": [
    "Now that we have the metric $g$ for this example, the next time we revisit this example, we will forget about where it came from (the embedding $\\theta$) and deliberatly use only the metric  $g$ (or rather the the `gh` computed above) to illustrate how the intrinsic computation works."
   ]
  },
  {
   "cell_type": "markdown",
   "id": "ff0a75ad-e0ce-4f90-83b1-9dc22e2089c0",
   "metadata": {},
   "source": [
    "## The intrinsic computation\n",
    "\n",
    "In the intrinsic way to compute the Gauss curvature $K$,  One first defines the Christoffel symbols \n",
    "\n",
    "\\begin{align*}\n",
    "\\Gamma_{ij}^k(g) \n",
    "\t=\\frac{1}{2}g ^{kl}\\left(\\partial_{i}g_{jl}+\\partial_{j}g_{il}-\\partial_{l}g_{ij}\\right)=g ^{kl}\\Gamma_{ijl}(g).\n",
    "\\end{align*}\n",
    "\n",
    "using the summation convention (and accompanying conventions of raising indices\n",
    "whereby $g^{kl}$ is the $(k,l)$-entry of the inverse of $g$). Then put \n",
    "\n",
    "\\begin{align*}\n",
    "R_{ijkl} = \n",
    "\t\t\t\\partial_i \\Gamma_{jkl} - \\partial_j \\Gamma_{ikl}\n",
    "\t\t\t+ \\Gamma_{ik}^p\\Gamma_{jpl}\n",
    "\t\t\t- \\Gamma_{jk}^p\\Gamma_{ipl}\n",
    "\\end{align*}\n",
    "\n",
    "for any indices $i,j,k,l$ taking values of either 0 or 1 for a 2-manifold.\n",
    "The theorem then gives Gauss curvature $K$ as\n",
    "\n",
    "\\begin{align*}\n",
    "K =\\frac{R_{0110}}{\\det g}.\n",
    "\\end{align*}\n",
    "\n",
    "Clearly, this computation only requires knowledge of the metric $g$."
   ]
  },
  {
   "cell_type": "markdown",
   "id": "a4909bf4-773e-4c32-97d5-bf485f0bad04",
   "metadata": {},
   "source": [
    "\n",
    "We can certainly compute the many derivatives above and end up with $K$. But `ngsolve` has already implemented these formulas to facilitate intrinsic curvature computation.  The $R_{0110}$ above represents a component of the general fourth-order Riemann tensor (which only has one independent component in two dimensions). It can computed using the method `Operator(\"Riemann\")` of a `GridFunction` representing the  metric $g$.  \n",
    "\n",
    "\n",
    "**The hemisphere example**\n",
    "\n",
    "Reconsidering the same hemisphere example, for which we have computed a metric approximation `gh` previously, all that is needed to obtain a Gauss curvature approximation are the following lines:"
   ]
  },
  {
   "cell_type": "code",
   "execution_count": null,
   "id": "bc6935c9-ca6d-4f2c-97f8-4177a0dfcdc3",
   "metadata": {},
   "outputs": [],
   "source": [
    "R = gh.Operator(\"Riemann\")\n",
    "Kh = R[0,1,1,0]/Det(gh)\n",
    "Draw(Kh, param_mesh);"
   ]
  },
  {
   "cell_type": "markdown",
   "id": "a150ee96-7459-401f-b4f7-3b030952424d",
   "metadata": {},
   "source": [
    "Thus the intrinsic computation gives an approximation to the same Gauss curvature value we found previously through the extrinsic Weingarten tensor."
   ]
  },
  {
   "cell_type": "markdown",
   "id": "67b86770-8436-418f-b159-740034509950",
   "metadata": {},
   "source": [
    "## The Gauss-Bonnet theorem"
   ]
  },
  {
   "cell_type": "markdown",
   "id": "051be70a-f1ac-4adf-93d7-12d4f9416f43",
   "metadata": {},
   "source": [
    "Before we proceed to nonsmooth surfaces, it's useful to build more intuition using another remarkable  theorem that connects geometrical quantities (curvatures) to a topological one (Euler characteristic). Let $\\cl S$ be a smooth surface $\\cl S$ with boundary $\\partial \\cl S$, which may be empty. When it is not empty, let the boundary $\\partial \\cl S$ be smooth except at finitely many \"vertices\" $V$ collected into a set $\\cl V_{\\cl S}$. At each such vertex $V$, let $\\alpha_V$ be the interior angle. The Gauss-Bonnet theorem asserts that \n",
    "\n",
    "\\begin{align*}\n",
    "\\int_{\\mathcal{S}}K\\,ds + \\int_{\\partial \\mathcal{S}}\\kappa\\,dl \n",
    "+ \\sum_{V \\in \\cl V_{\\cl S}}(\\pi-\\alpha_V)= 2\\pi\\chi.\n",
    "\\end{align*}\n",
    "\n",
    "where, \n",
    "- $K$ is the Gauss curvature of $\\cl S$, \n",
    "- $\\kappa$ is the **geodesic curvature** of the smooth boundary curves, and \n",
    "- $\\chi$ is the **Euler characteristic** of the surface.\n",
    "\n",
    "### More on geodesic curvature $\\kappa$\n",
    "\n",
    "An extrinsic description of geodesic curvature of a curve on a surface is as follows. View the curve, perched atop the normal vector of the surface, like a bird looking down, as if it were a planar curve on a flat landscape, and then compute its planar  curvature to get $\\kappa$. For example, geodesic curvatures of great circles of a sphere are zero because they will appear linear to the bird.\n",
    "\n",
    "In fact the geodesic curvature of a curve in a Riemannian manifold is an intrinsic quantity computable from the metric alone: \n",
    "\n",
    "$$\n",
    "\\kappa = g(\\nabla_{\\tau} \\tau, \\mu)\n",
    "$$\n",
    "\n",
    "where $\\tau, \\mu$ is a $g$-orthonormal basis of the tangent space with $\\tau$ tangent to the curve. NGSolve provides $\\nabla_\\tau \\tau$ using the `specialcf.EdgeCurvature` function.\n",
    "\n",
    "\n",
    "### Euler characteristic $\\chi$\n",
    "\n",
    "For a connected closed surface $\\cl S$ with $\\gamma$ holes, the Euler characteristic is \n",
    "\n",
    "$$\n",
    "\\chi = 2 -2 \\gamma.\n",
    "$$\n",
    "\n",
    "For a surface $\\cl S$ homeomorphic to a triangle, $\\chi =1$.  More generally, given any triangulation of $\\cl S$, the Euler characteristic equals  the number of triangles minus numer of edges plus number of vertices, i.e.,\n",
    "$$\n",
    "\\chi=\\# T-\\# E + \\# V.\n",
    "$$"
   ]
  },
  {
   "cell_type": "code",
   "execution_count": null,
   "id": "e5c46941-6c49-40e4-b4c4-de8dbe62c673",
   "metadata": {},
   "outputs": [],
   "source": [
    "def EulerChar(mesh):\n",
    "    return mesh.nface - mesh.nedge + mesh.nv"
   ]
  },
  {
   "cell_type": "markdown",
   "id": "1bddc140-1c0f-4e66-978a-2653a162a059",
   "metadata": {},
   "source": [
    "### Examples\n",
    "\n",
    "It is illustrative to apply the Gauss-Bonnet theorem for the following three examples:\n",
    "\n",
    "<img width=\"60%\" src=\"3sphereGBcases.png\">"
   ]
  },
  {
   "cell_type": "markdown",
   "id": "abe0375d-f77c-4e35-9b71-0e89744de82f",
   "metadata": {},
   "source": [
    "- The first has $\\chi = 2$ and $K = 1/R^2$ where $R$ is the radius. The other two have $\\chi = 1$.\n",
    "\n",
    "- The second has a boundary whose geodesic curvature is $\\kappa = 1/(R \\tan \\theta)$ where $\\theta$ is the polar angle (complement of latitude) of the boundary curve.\n",
    "\n",
    "- The third is a triangle all of whose vertex angles $\\alpha_V$ are $\\pi/2$."
   ]
  },
  {
   "cell_type": "markdown",
   "id": "ba7a5f2f-fa87-42ee-b6da-ba3cc5458457",
   "metadata": {},
   "source": [
    "**The hemisphere example again**"
   ]
  },
  {
   "cell_type": "markdown",
   "id": "3552e954-8a49-40d7-99f5-fefe2c716fb9",
   "metadata": {},
   "source": [
    "The hemisphere has no vertices. Its only boundary, being a great circle, has zero geodesic curvature. So Gauss-Bonnet  formula becomes \n",
    "\n",
    "$$\n",
    "\\int_{\\cl S} K\\; ds = 2 \\pi.\n",
    "$$\n",
    "\n",
    "Both the intrinsic and extrinsic computation of $K$ yield approximations for which identity holds approximately."
   ]
  },
  {
   "cell_type": "code",
   "execution_count": null,
   "id": "d43d071f-e596-4a00-8954-038464b7c64e",
   "metadata": {},
   "outputs": [],
   "source": [
    "K = GaussCurvature()\n",
    "intK = Integrate(K * ds, hemisph_mesh)\n",
    "chiS = 2 * pi * EulerChar(hemisph_mesh)\n",
    "print('Integral of K over hemisphere =', intK)\n",
    "print('2 * pi * Euler characteristic =', chiS)   "
   ]
  },
  {
   "cell_type": "code",
   "execution_count": null,
   "id": "b798b599-9d45-4a56-a4cc-6b3b2eb7bfc8",
   "metadata": {},
   "outputs": [],
   "source": [
    "Kh = gh.Operator(\"Riemann\")[0,1,1,0] / Det(gh)\n",
    "intKh = Integrate(Kh * sqrt(Det(gh)), param_mesh)\n",
    "chi = 2 * pi * EulerChar(param_mesh)\n",
    "print('Integral of K over Rieman.mfd =', intKh)\n",
    "print('2 * pi * Euler characteristic =', chi)   "
   ]
  },
  {
   "cell_type": "markdown",
   "id": "387bd4fc-7960-4fab-962a-2a5bd77373a7",
   "metadata": {},
   "source": [
    "## Nonsmooth cylindrical box\n",
    "\n",
    "Consider a cylinder with its ends closed off. Then we obtain a cylindrical box, as shown below, which is not  a smooth surface.  "
   ]
  },
  {
   "cell_type": "code",
   "execution_count": null,
   "id": "08f81e8c-ac52-406e-b395-5053b7001dfa",
   "metadata": {},
   "outputs": [],
   "source": [
    "cyl = Cylinder((0,0,0), X, r=2, h=3)\n",
    "cylbox = Glue([cyl.faces[0], cyl.faces[1], cyl.faces[2]])\n",
    "cylmesh = Mesh(OCCGeometry(cylbox).GenerateMesh(maxh=1)).Curve(4)\n",
    "Draw(cylmesh, euler_angles=(4, 35, 10))     "
   ]
  },
  {
   "cell_type": "code",
   "execution_count": null,
   "id": "c979ae14-94fe-463c-b321-5d3083371ffc",
   "metadata": {},
   "outputs": [],
   "source": [
    "Draw(GaussCurvature(), cylmesh, euler_angles=(4, 35, 10));"
   ]
  },
  {
   "cell_type": "markdown",
   "id": "98ee55b5-be96-4434-96d6-04fab847efee",
   "metadata": {},
   "source": [
    "We know that a cylindrical part of this closed surface (see [prior notebook](Extrinsic.ipynb)) has zero Gauss curvature. Of course the flat ends also have zero curvature. This explains why we got zero above.\n",
    "It then appears that the Gauss Bonnet formula \n",
    "\n",
    "$$\n",
    "\\int_{\\cl S} K = 2\\pi \\times 2\n",
    "$$\n",
    "\n",
    "does not hold in this case as the left hand side appears to evaluate to zero:"
   ]
  },
  {
   "cell_type": "code",
   "execution_count": null,
   "id": "3f84df3e-e3eb-4086-b02f-38febe413909",
   "metadata": {},
   "outputs": [],
   "source": [
    "Integrate(K * ds, cylmesh)  # LHS "
   ]
  },
  {
   "cell_type": "code",
   "execution_count": null,
   "id": "ed1ad24b-6471-430f-ba44-b2b89af1d717",
   "metadata": {},
   "outputs": [],
   "source": [
    "2 * pi * EulerChar(cylmesh)  # RHS "
   ]
  },
  {
   "cell_type": "markdown",
   "id": "cd28d1c2-b14d-4ed7-88df-a8de3747d4eb",
   "metadata": {},
   "source": [
    "Of course, the surface is not smooth, so the theorem's statement is not contradicted by this example. Yet, this points to something that deserves more thought.\n",
    "\n",
    "Indeed, by a small modification of the nonsmooth surface, we can get a smooth surface, for which the theorem must hold."
   ]
  },
  {
   "cell_type": "code",
   "execution_count": null,
   "id": "dae4c5c0-76a1-4878-b9cd-463938abf38f",
   "metadata": {},
   "outputs": [],
   "source": [
    "cylsmooth = cyl.MakeFillet(cyl.edges, 0.5).faces\n",
    "cylsmoothmesh = Mesh(OCCGeometry(cylsmooth).GenerateMesh(maxh=1)).Curve(5)\n",
    "Draw(cylsmoothmesh);"
   ]
  },
  {
   "cell_type": "code",
   "execution_count": null,
   "id": "5c838db6-9773-4a97-a94c-8b1d394ebaa6",
   "metadata": {},
   "outputs": [],
   "source": [
    "Integrate(GaussCurvature() * ds, cylsmoothmesh)  # Gauss Bonnet does hold"
   ]
  },
  {
   "cell_type": "code",
   "execution_count": null,
   "id": "be62cf1a-a2e0-4521-b989-fad4651a02e3",
   "metadata": {},
   "outputs": [],
   "source": [
    "Draw(GaussCurvature(), cylsmoothmesh);"
   ]
  },
  {
   "cell_type": "markdown",
   "id": "dd55609d-c640-43b9-808d-bbd63db7fa6b",
   "metadata": {},
   "source": [
    "The curvature has now become concentrated in the regions where the nonsmooth edge was smoothed out. As the smoothing region becomes tinier,  and the smooth surface becomes   closer to the nonsmooth one, the localized curvature on these regions  approaches an edge-delta-like-distribution.\n",
    "\n",
    "We can even make a guess on what that edge curvature contribution should be. Since Gauss-Bonnet formula must hold separately for the smooth cylindrical face as well as the two flat circular disks, and since the geodesic curvature of the boundary of the former vanishes, the missing edge curvature contributions must be the geodesic curvature of the flat disks, which simply equals the reciprocal of their radius. Their integrals over the edges exactly equal the difference between $2 \\pi \\chi$ and the zero $\\int_{\\cl S} K$.\n",
    "\n",
    "\n",
    "*This example leads us to suspect that the jump of the geodesic curvature across edges of a piecewise smooth manifold must be a source of curvature and should be included in the total curvature $\\int_{\\cl S} K\\; ds$.*"
   ]
  },
  {
   "cell_type": "markdown",
   "id": "1c090be2-4d1a-4446-8fae-1c70fbbf9d73",
   "metadata": {},
   "source": [
    "## Nonsmooth cube\n",
    "\n",
    "A cube has edges and corners that make it nonsmooth. If we were to apply the classical Gauss curvature formula in each smooth piece, we would get zero since all the facets of a cube are flat. Moreover, all of its edges are straight and are of zero geodesic curvature. So where does the curvature lie? \n",
    "\n",
    "Rounding out the edges and corners and then computing the Gauss curvature of the resulting smooth manifold give an answer."
   ]
  },
  {
   "cell_type": "code",
   "execution_count": null,
   "id": "b1a17774-a3ed-48c0-a37f-288b2b7ffa48",
   "metadata": {},
   "outputs": [],
   "source": [
    "cube = Box( (0,0,0), (1,1,1) )\n",
    "cubesmooth = cube.MakeFillet(cube.edges, 0.1)\n",
    "cubesmoothmesh = Mesh(OCCGeometry(cubesmooth).GenerateMesh(maxh=0.2,perfstepsend=meshing.MeshingStep.MESHSURFACE)).Curve(7)\n",
    "Draw (GaussCurvature(), cubesmoothmesh);"
   ]
  },
  {
   "cell_type": "markdown",
   "id": "42c17846-2c8a-41c1-82a7-845e9b68e63a",
   "metadata": {},
   "source": [
    "This points to the vertices of the cube as sources of curvatures in a point-delta-like-distribution form. Indeed this is the classical *angle deficit* which Tullio Regge used to approximate curvature. Its definition follows. But first some geometric intuition. Rotate the cube and  focus on a vertex."
   ]
  },
  {
   "cell_type": "code",
   "execution_count": null,
   "id": "83184505-9aa3-4b96-8ca7-c25d85287f2b",
   "metadata": {},
   "outputs": [],
   "source": [
    "Draw(cube, euler_angles=(50, 30, -10));"
   ]
  },
  {
   "cell_type": "markdown",
   "id": "80017ff2-8846-417b-9f72-9c60540e87af",
   "metadata": {},
   "source": [
    "At the foreground vertex above,  note that the  sum of angles meeting at that vertex equals $3 \\times \\pi/2$, not $2\\pi$ like on a flat surface. \n",
    "\n",
    "More generally, while the sum of angles made at a vertex by edges on a smooth manifold add up to $2 \\pi$,  on a nonsmooth manifold, at a vertex such as a hill top,  the angles add up to less than $2 \\pi$. This deficit of the angle sum is an indication of positive curvature."
   ]
  },
  {
   "cell_type": "markdown",
   "id": "101799ba-6974-46e0-875c-c70a47b2cb43",
   "metadata": {},
   "source": [
    "<img width=40% src=\"angle_deficit.png\"/>"
   ]
  },
  {
   "cell_type": "markdown",
   "id": "cf9a7e45-2ed8-4774-8f1e-c9e85e93b0ed",
   "metadata": {},
   "source": [
    "The classical **angle deficit** at a vertex is defined by \n",
    "\n",
    "$$\n",
    "\\Theta_V = 2 \\pi - \\sum_T \\sphericalangle_V^T.\n",
    "$$"
   ]
  },
  {
   "cell_type": "markdown",
   "id": "0722efc5-4b14-4c62-a30b-a8328fca9b6f",
   "metadata": {},
   "source": [
    "For the cube,  this angle deficit at each vertex equals  \n",
    "\n",
    "$$\n",
    "2 \\pi - 3  \\pi/2   = \\pi/2.\n",
    "$$\n",
    "\n",
    "Since there are eight vertices, multiplying  by 8, we obtain $4 \\pi$, which equal $2 \\pi \\chi$ in the Gauss Bonnet formula. \n",
    "\n",
    "*This example suggests that the total curvature $\\int_{\\cl S} K\\; ds$ must include the sum of angle deficits at \n",
    "all vertices of a piecewise smooth manifold.*"
   ]
  },
  {
   "cell_type": "markdown",
   "id": "f8796bf9-f496-418b-968d-f5a308d066b0",
   "metadata": {},
   "source": [
    "## Generalized Gauss curvature for nonsmooth manifolds"
   ]
  },
  {
   "cell_type": "markdown",
   "id": "40815d1c-d6f4-43cc-a8dc-e50e2084944d",
   "metadata": {},
   "source": [
    "The prior examples suggest  that a generalization of the notion of curvature on nonsmooth manifolds should  include curvature contributions on edges and vertices. We expect the former to take the form of an edge-delta of strength equal to the jump of geodesic curvature. We expect the latter to take the form of angle deficits at  vertices. This motivates the next definition.\n",
    "\n",
    "Suppose $\\cl S$ is a 2-manifold, subdivided into a triangulation $\\cl T$, given a piecewise smooth Riemannian manifold structure via a metric $g$ in the Regge finite element space. Snce $g$ is smooth within each element $T$, we can view each $T$ as a Riemannian manifold by itself and compute its curvature $K_T$ by the classical formulas for the smooth case mentioned previously.  However, we must also account for sources of curvature at the element interfaces. We define  the **generalized Gauss curvature** of $\\cl S$ (also known as the **distributional Gauss curvature**) as a functional acting on continuous scalar fields $u$  by \n",
    "\n",
    "$$\n",
    "\\widetilde K (u) = \\sum_{V \\in \\mathcal{V}} \\Theta_V \\; u(V) +\n",
    "\\sum_{T \\in \\mathcal{T}} \\left( \\int_{(T, g)} K_T \\, u \n",
    "+ \\int_{ (\\partial T, g) } \\kappa \\; u \\right)\n",
    "$$\n",
    "\n",
    "for all $u$ in a Lagrange finite element space. Here at each vertex $V$ in the set of vertices $\\cl V$ of the triangulation, the previously described angle deficit \n",
    "$\\Theta_V $ acts as a curvature contribution. "
   ]
  },
  {
   "cell_type": "markdown",
   "id": "7a24435d-7167-4dff-8eea-3ed5283a3ff5",
   "metadata": {},
   "source": [
    "As in the case of the generalized Weingarten tensor, in order to visualize such a functional, we compute its  function representation obtained by lifting it into a finite element space. Namely, let  $\\widetilde{K}_h$ be the unique function in the Lagrange space $V_h$ of degree $k+1$, when the metric is in the  Regge space of degree $k$, such that  \n",
    "\n",
    "$$\n",
    "      \\sum_{T \\in \\cl T} \\int_{(T, g)} \\widetilde{K}_h \\, w_h = \\widetilde{K}(w_h)\n",
    "$$\n",
    "\n",
    "for all $w_h$ in $V_h$.\n",
    "\n"
   ]
  },
  {
   "cell_type": "markdown",
   "id": "1b53d687-96b0-4f8f-899e-139123cc6d71",
   "metadata": {},
   "source": [
    "Note that each of the terms defining $\\widetilde{K}(w_h)$ can be computed intrinsically, using only the metric $g$. Implementation of this intrisic calculation follows in the next cell. Of course, the terms can also be computed extrinsically if an embedding is known: this is pursued further down. "
   ]
  },
  {
   "cell_type": "markdown",
   "id": "7193b2d7-f89a-47d2-8da6-1ec030dfc383",
   "metadata": {},
   "source": [
    "### Intrinsic computation of generalized Gauss curvature"
   ]
  },
  {
   "cell_type": "markdown",
   "id": "5a01012b-31c7-429d-9c23-c127ffc3c878",
   "metadata": {},
   "source": [
    "In intrinsic computation, we provide as input the 2D flat parameter domain meshed, a piecewise smooth Regge metric on it, and the degree of the Lagrange finite element space in which the generalized Gauss curvature is to be lifted into. No embedding information (and nothing 3D) is needed."
   ]
  },
  {
   "cell_type": "code",
   "execution_count": null,
   "id": "ebfe043c-35fa-4f50-85c2-54fa97cf33ce",
   "metadata": {},
   "outputs": [],
   "source": [
    "def GeneralizedGaussCurvature(parameter_domain_mesh, gh, lift_order):\n",
    "    \n",
    "    t = ng.specialcf.tangential(2) # tangential vector at element edges\n",
    "    n = -ng.specialcf.normal(2)    # normal vector at element edges\n",
    "    bbnd_tang = ng.specialcf.VertexTangentialVectors(2) # tangent on edges into a vertex\n",
    "    vt1 = bbnd_tang[:, 0]\n",
    "    vt2 = bbnd_tang[:, 1]\n",
    "\n",
    "    angldeficit = acos(vt1*vt2 / sqrt(vt1*vt1) / sqrt(vt2*vt2)) - \\\n",
    "                  acos(gh*vt1*vt2 / sqrt(gh*vt1*vt1) / sqrt(gh*vt2*vt2))\n",
    "    edgecurv = ng.specialcf.EdgeCurvature(2)  # nabla_t t\n",
    "    geodesicurv = sqrt(Det(gh)) / (t * (gh * t)) * \\\n",
    "                  (edgecurv * n + gh.Operator(\"christoffel2\")[t, t, n])\n",
    "    elementcurv= 1 / sqrt(Det(gh)) * gh.Operator(\"Riemann\")[0, 1, 1, 0]\n",
    "\n",
    "    V = ng.H1(parameter_domain_mesh, order=lift_order, dirichlet=\".*\")\n",
    "    u, v = V.TnT()\n",
    "\n",
    "    f = LinearForm(V)\n",
    "    f += v * angldeficit * dx(element_vb=ng.BBND)\n",
    "    f += v * geodesicurv * dx(element_boundary=True)\n",
    "    f += v * elementcurv * dx\n",
    "\n",
    "    liftK = GridFunction(V)     # lifted Gauss curvature\n",
    "    with ng.TaskManager():\n",
    "        M = BilinearForm(sqrt(Det(gh)) * u * v * dx)\n",
    "        M.Assemble()\n",
    "        f.Assemble()\n",
    "        liftK.vec.data = M.mat.Inverse(V.FreeDofs()) * f.vec\n",
    "        \n",
    "    return liftK"
   ]
  },
  {
   "cell_type": "markdown",
   "id": "576809c7-7794-4105-9b80-79c6bdc46bcc",
   "metadata": {},
   "source": [
    "### Extrinsic computation of generalized Gauss curvature"
   ]
  },
  {
   "cell_type": "markdown",
   "id": "c259ef6c-6a05-484a-bf8b-dff16e59080b",
   "metadata": {},
   "source": [
    "The same formula for generalized Gauss curvature can also be implemented in the extrinsic approach. Here, the metric on the surface is inherited from the ambient 3D Euclidean metric, so there is no need to provide a metric as input. We provide the entire (meshed) surface in 3D as input.  The degree of the Lagrange finite element space in which the generalized Gauss curvature is to be lifted into should also be provided as input."
   ]
  },
  {
   "cell_type": "code",
   "execution_count": null,
   "id": "01872434-db4b-4c48-84df-e64dfc10c2b3",
   "metadata": {},
   "outputs": [],
   "source": [
    "def GeneralizedGaussCurvatureExtrinsic(surface_mesh, lift_order):\n",
    "\n",
    "    mu = Cross(ng.specialcf.normal(3), ng.specialcf.tangential(3))\n",
    "    edgecurve = ng.specialcf.EdgeCurvature(3)  # nabla_t t\n",
    "    bbndtang  = ng.specialcf.VertexTangentialVectors(3)\n",
    "    vt1 = bbndtang[:,0] \n",
    "    vt2 = bbndtang[:,1] \n",
    "    V = H1(surface_mesh, order=lift_order)\n",
    "    u,v = V.TnT()\n",
    "    f = LinearForm(V)\n",
    "    f += GaussCurvature()*v*ds(bonus_intorder=12)\n",
    "    f += -mu * edgecurve*v*ds(element_boundary=True, bonus_intorder=12)\n",
    "    f += -v*acos(vt1*vt2)*ds(element_vb=ng.BBND)\n",
    "\n",
    "    with ng.TaskManager():\n",
    "        f.Assemble()\n",
    "        for i in range(f.space.mesh.nv):\n",
    "            f.vec[i] += 2*pi\n",
    "\n",
    "        Kh = GridFunction(V)\n",
    "        mass = BilinearForm(u*v*ds(bonus_intorder=6)).Assemble().mat\n",
    "        Kh.vec.data = mass.Inverse()*f.vec\n",
    "\n",
    "    return Kh"
   ]
  },
  {
   "cell_type": "markdown",
   "id": "08ce0aef-011d-4695-9923-ee2be43a5499",
   "metadata": {},
   "source": [
    "## Example: Riemannian manifold approximated by piecewise flat metrics  "
   ]
  },
  {
   "cell_type": "markdown",
   "id": "7c0972e6-908d-4902-b99c-d3ec80b6f65c",
   "metadata": {},
   "source": [
    "In this example, a smooth metric on a square parameter domain is approximated by piecewise flat metrics (in the lowest order Regge finite element space). The above-defined generalized Gauss curvature lifting, applied to the piecewise smooth metric approximations, then appears to converge to the exact curvature of the original smooth manifold as seen from the computations below. (Make the  mesh finer to visualize the convergence.)  \n",
    "\n",
    "Note that the metric tensor of this example is induced by the embedding $\\theta(x,y)= (x,y,f(x,y))$ of the graph of $f(x,y) = \\frac{1}{2}(x^2+y^2)-\\frac{1}{12}(x^4+y^4).$ This information is irrelevant to the computation below, but we mention it since it allows us to compute the exact metric and the exact curvature for reference."
   ]
  },
  {
   "cell_type": "code",
   "execution_count": null,
   "id": "647764ab-b879-4812-994d-4cebe9fb713f",
   "metadata": {
    "scrolled": true
   },
   "outputs": [],
   "source": [
    "mapping = lambda x, y: (-1 + 2 * x, -1 + 2 * y)\n",
    "mesh = MakeStructured2DMesh(quads=False, nx=8, ny=8, mapping=mapping)\n",
    "\n",
    "# Exact metric:\n",
    "gexact = CF((1 + (x - 1 / 3 * x**3) ** 2, (x - 1 / 3 * x**3) * (y - 1 / 3 * y**3),\n",
    "             (x - 1 / 3 * x**3) * (y - 1 / 3 * y**3), 1 + (y - 1 / 3 * y**3) ** 2),\n",
    "            dims=(2, 2))\n",
    "\n",
    "# Exact Gauss curvature:\n",
    "Kexact = 81 * (1 - x**2) * (1 - y**2) / (9 + x**2 * (x**2 - 3) ** 2 + y**2 * (y**2 - 3) ** 2) ** 2\n",
    "\n",
    "# Exact curvature for reference:\n",
    "Draw(Kexact, mesh, \"K\", order=3, deformation=True);"
   ]
  },
  {
   "cell_type": "code",
   "execution_count": null,
   "id": "9c628d7a-a8e1-407f-be9b-a14f6c443a6a",
   "metadata": {},
   "outputs": [],
   "source": [
    "# Approximate the metric by a piecewise constant (flat) metric gh\n",
    "order = 0\n",
    "Rg = ng.HCurlCurl(mesh, order=order)\n",
    "gh = GridFunction(Rg)\n",
    "gh.Set(gexact, dual=True, bonus_intorder=5)\n",
    "\n",
    "# Use the intrinsic method to compute generalized Gauss curvature\n",
    "Kh = GeneralizedGaussCurvature(mesh, gh, lift_order=order+1)\n",
    "Draw(Kh, mesh, min=0, max=1, deformation=True);"
   ]
  },
  {
   "cell_type": "markdown",
   "id": "370eb2b3-1a0a-4669-9f87-e6226765b9cb",
   "metadata": {},
   "source": [
    "## Example: Intersecting tori"
   ]
  },
  {
   "cell_type": "markdown",
   "id": "799cd593-b34e-4a9e-9f5c-968f9a95ee32",
   "metadata": {},
   "source": [
    "In this example we consider a closed 3D surface of nontrivial genus. Knowing the surface in 3D, it is now convenient to use the extrinsic method to calculate its generalized Gauss curvature. The surface consists of one torus intersecting another, as made below."
   ]
  },
  {
   "cell_type": "code",
   "execution_count": null,
   "id": "0ca9e6ce-1042-4086-8f39-44839ca687dc",
   "metadata": {},
   "outputs": [],
   "source": [
    "from netgen.occ import WorkPlane, Revolve, Translation, Axis\n",
    "\n",
    "circ = WorkPlane(Axes((3, 0, 0), -Y, X)).Circle(1).Face()\n",
    "torus = Revolve(circ, Axis((0, 0, 0), (0, 0, 1)), 360)\n",
    "torus.faces.name = \"torus\"\n",
    "\n",
    "torus2 = Translation((6.5, 0, 0))(torus)\n",
    "torus2.faces.name = \"torus2\"\n",
    "two_torus = Glue((torus2 - torus).faces[\"torus2\"] +\n",
    "                 (torus - torus2).faces[\"torus\"])\n",
    "torimesh = Mesh(OCCGeometry(two_torus).GenerateMesh(maxh=1)).Curve(5)\n",
    "Draw(torimesh);"
   ]
  },
  {
   "cell_type": "markdown",
   "id": "1370ef31-717d-44f7-bf6f-12a67ea5410d",
   "metadata": {},
   "source": [
    "Appealing to the previously defined extrinsic method, we obtain a visualization of lifted generalized Gauss curvature that shows sharp variations at the nonsmooth intersection. "
   ]
  },
  {
   "cell_type": "code",
   "execution_count": null,
   "id": "37aefd9d-4505-47d8-801d-f8dcc9c4bcd2",
   "metadata": {},
   "outputs": [],
   "source": [
    "Kh = GeneralizedGaussCurvatureExtrinsic(torimesh, lift_order=6)\n",
    "Draw(Kh, torimesh, max=0.3, min=-0.3);"
   ]
  },
  {
   "cell_type": "markdown",
   "id": "534538f0-4d50-48d0-9d3a-39a192548ba8",
   "metadata": {},
   "source": [
    "Note that by construction, the lifted generalized Gauss curvature $\\widetilde{K}_h$ on closed surfaces satisfies the Gauss-Bonnet formula, i.e., \n",
    "\n",
    "$$\n",
    "\\int_{\\cl S} \\widetilde{K}_h \\; ds = 2\\pi \\chi.\n",
    "$$\n",
    "\n",
    "One can verify that this is true for the $\\widetilde{K}_h$ we just computed, but not true if $\\widetilde{K}_h$ is replaced by the classical Gauss curvature of the torus pieces: the outputs of the next two cells representing the left and right hand sides above are equal, while the output of the next third cell (integral of the classical Gauss curvature) is completely different since it ignores the curvature source at the nonsmooth interface."
   ]
  },
  {
   "cell_type": "code",
   "execution_count": null,
   "id": "0b4a5711-3800-4827-ba30-439463d56ab3",
   "metadata": {},
   "outputs": [],
   "source": [
    "Integrate(Kh, torimesh.Boundaries(\".*\"), order=15)"
   ]
  },
  {
   "cell_type": "code",
   "execution_count": null,
   "id": "aac087a4-451a-42ac-b54a-99de6f7074f8",
   "metadata": {},
   "outputs": [],
   "source": [
    "2 * pi * EulerChar(torimesh)"
   ]
  },
  {
   "cell_type": "code",
   "execution_count": null,
   "id": "e5f49197-a18a-46f4-9f78-6c4f8de6ed28",
   "metadata": {},
   "outputs": [],
   "source": [
    "Integrate(GaussCurvature(), torimesh.Boundaries(\".*\"), order=15)"
   ]
  },
  {
   "cell_type": "markdown",
   "id": "d598ab7a-94e7-4b64-bd8f-191ba39b6ba9",
   "metadata": {},
   "source": [
    "## References\n",
    "\n",
    "\n",
    "[<a href=\"https://doi.org/10.5802/smai-jcm.98\">Gopalakrishnan, Neunteufel, Schöberl, Wardetzky:  Analysis of curvature approximations via covariant incompatibility and curl for Regge metrics, <i>The SMAI Journal of computational mathematics</i> (2023).</a>]\n",
    "\n",
    "[<a href=\"https://arxiv.org/abs/2311.01603\">Gopalakrishnan,  Neunteufel, Schöberl, Wardetzky: \n",
    "Generalizing Riemann curvature to Regge metrics (2025).</a>]\n",
    "\n"
   ]
  }
 ],
 "metadata": {
  "kernelspec": {
   "display_name": "Python 3 (ipykernel)",
   "language": "python",
   "name": "python3"
  },
  "language_info": {
   "codemirror_mode": {
    "name": "ipython",
    "version": 3
   },
   "file_extension": ".py",
   "mimetype": "text/x-python",
   "name": "python",
   "nbconvert_exporter": "python",
   "pygments_lexer": "ipython3",
   "version": "3.11.6"
  }
 },
 "nbformat": 4,
 "nbformat_minor": 5
}
