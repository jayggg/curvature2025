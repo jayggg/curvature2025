{
 "cells": [
  {
   "cell_type": "markdown",
   "id": "65da0af1-a343-4372-8588-874a5034381b",
   "metadata": {},
   "source": [
    "# Extrinsic Curvature Computations \n",
    "\n",
    "### NGSolve User Meeting, June 2025, Hamburg"
   ]
  },
  {
   "cell_type": "markdown",
   "id": "a5a8cca7-b1c1-42c3-afc5-5649ec5589e4",
   "metadata": {},
   "source": [
    "$\n",
    "\\newcommand{\\bb}[1]{\\mathbb{{#1}}}\n",
    "\\newcommand{\\cl}[1]{\\mathcal{{#1}}}\n",
    "\\newcommand{\\PS}{P_{{\\cl{S}}}}\n",
    "\\newcommand{\\gradS}{\\nabla_{\\cl{S}}}\n",
    "$"
   ]
  },
  {
   "cell_type": "code",
   "execution_count": null,
   "id": "8e12871f",
   "metadata": {},
   "outputs": [],
   "source": [
    "from netgen.occ import X, Y, Z, Pnt, Sphere, Cylinder, Ellipsoid, Axes, OCCGeometry\n",
    "from netgen import meshing\n",
    "from ngsolve import Mesh, Cof, Grad, Integrate, Trace, Cross, Det, OuterProduct, InnerProduct, Normalize\n",
    "from ngsolve import tan, cosh, cos, acos, sin, ds, log, sqrt, pi\n",
    "from ngsolve import VectorFacetSurface, HDivDivSurface, LinearForm, BilinearForm, GridFunction\n",
    "import ngsolve as ng\n",
    "from ngsolve.webgui import Draw\n",
    "MESHSURF = meshing.MeshingStep.MESHSURFACE\n",
    "curving_order = 3"
   ]
  },
  {
   "cell_type": "markdown",
   "id": "cc6e5fe1",
   "metadata": {},
   "source": [
    "## Curvature of embedded smooth manifolds"
   ]
  },
  {
   "cell_type": "markdown",
   "id": "09ae8ed8-5c7c-4a54-bbb7-6a05e3c9ad31",
   "metadata": {},
   "source": [
    "In the extrinsic approach, we consider an orientable surface $\\cl{S}$, smoothly embedded in the Euclidean space $\\bb{R}^3$, possessing a smooth unit normal field $\\nu$. It is very intuitive to measure the curvature of $\\cl S$ by examining how the normal $\\nu$ changes. The standard extrinsic approach proceeds to define curvature  using the derivative of $\\nu$ on the surface.\n",
    "\n",
    "One approach to differentiating fields on $\\cl S$ is by using standard partial derivatives of their smooth extensions in $\\bb R^3$ (from $\\cl S$). We need the orthogonal (Euclidean) projection onto the tangent space of the surface, represented by the action of the matrix  \n",
    "\n",
    "$$\n",
    "\\PS = I - \\nu \\nu^T.\n",
    "$$\n",
    "\n",
    "Letting $\\nabla$ denote the usual gradient in three dimensions, we define the surface gradients of a scalar field $f$ and a vector field $u = (u_1, u_2, u_3)$ on the surface  $\\cl{S}$ by $\\nabla_{\\mathcal{S}} f := \\PS \\nabla f$ and \n",
    "\n",
    "$$\n",
    "\\gradS u := (\\PS \\nabla u_1, \\PS \\nabla u_2, \\PS \\nabla u_3),\n",
    "$$\n",
    "\n",
    "respectively. Clearly the surface gradient of a vector field is a $3 \\times 3$ matrix field.\n",
    "\n",
    "This surface gradient $\\nabla_{\\cl S}$ can be computed in NGSolve using `Grad`. NGSolve does not compute it using extensions as mentioned above, but rather by mappings from a reference element and a pseudoinverse, an alternate technique to compute the same surface gradient."
   ]
  },
  {
   "cell_type": "markdown",
   "id": "f40a9d6b-ef06-4349-bb63-a48da4f0a4a7",
   "metadata": {},
   "source": [
    "The **Weingarten tensor**, or the matrix of the *shape operator* is the $3\\times 3$ matrix field defined by \n",
    "\n",
    "$$\n",
    "W =\\gradS \\nu.\n",
    "$$\n",
    "\n",
    "Extrinsic curvature definitions are based on $W$. Recall the following:\n",
    "\n",
    "1.  $W$ is a symmetric matrix at every point of $\\cl S$.\n",
    "2.  $W$ always has zero as one eigenvalue with $\\nu$ as the corresponding eigenvector.\n",
    "3.  Its other two eigenvalues $k_1$ and $k_2$ are called the two **principal curvatures** of the surface $\\cl S$.\n",
    "4.  The **Gauss curvature** $K$ and the **mean curvature** $H$  of $\\cl S$ are given, respectively, by\n",
    "\n",
    "\\begin{align*}\n",
    "K &=  k_1 \\, k_2, \\\\\n",
    "H &= \\frac 1 2 (k_1 + k_2).\n",
    "\\end{align*}"
   ]
  },
  {
   "cell_type": "markdown",
   "id": "fb7a470b-7afb-4295-a5bb-dc1f4a71870a",
   "metadata": {},
   "source": [
    "We now show how to compute these curvatures in NGSolve."
   ]
  },
  {
   "cell_type": "markdown",
   "id": "df0e0a4d-e6d4-404b-aac6-420faa1556b1",
   "metadata": {},
   "source": [
    "## Example 1. Curvature of a sphere\n",
    "\n",
    "A sphere curves in exactly the same way in all directions, so all its principal curvatures must be equal. They equal the reciprocal of its radius $r$. It offers an example where $W$ and all the above-mentioned curvatures can be analytically computed:\n",
    "\\begin{align*}\n",
    "k_i = \\frac{1}{r},\\qquad K=\\frac{1}{r^2},\\qquad H=\\frac{1}{r}.\n",
    "\\end{align*}\n",
    "The sphere is called an *elliptic surface* as its Gauss curvature is positive."
   ]
  },
  {
   "cell_type": "markdown",
   "id": "ac18af37-b44d-4ca8-8286-6b348d607e31",
   "metadata": {},
   "source": [
    "We make a sphere of radius `r` in OCC geometry and mesh it using `netgen` as follows. Note that `curving_order` determines how accurately the computational object represents the geometry through mappings from a reference element."
   ]
  },
  {
   "cell_type": "code",
   "execution_count": null,
   "id": "dc4032a7",
   "metadata": {},
   "outputs": [],
   "source": [
    "spheremesh = Mesh(OCCGeometry(Sphere(Pnt(0,0,0), r=2)).GenerateMesh(maxh=0.4, perfstepsend=MESHSURF))\n",
    "spheremesh.Curve(curving_order);\n",
    "Draw(spheremesh);"
   ]
  },
  {
   "cell_type": "markdown",
   "id": "d12d35f1-cf63-42f7-9cb2-90d86136e7a2",
   "metadata": {},
   "source": [
    "The unit normal vector $\\nu$ of the sphere and the Weingarten tensor can now be computed easily in ngsolve. "
   ]
  },
  {
   "cell_type": "code",
   "execution_count": null,
   "id": "9caa9267-d89d-499c-bed4-e7a4e6a8dc7c",
   "metadata": {},
   "outputs": [],
   "source": [
    "nu = ng.specialcf.normal(3)  \n",
    "W = Grad(nu)   # Weingarten tensor"
   ]
  },
  {
   "cell_type": "markdown",
   "id": "f0a8eabe-0933-4475-aadd-a9490aa1f3da",
   "metadata": {},
   "source": [
    "The `dims` attribute of an ngsolve `CoefficientFunction` verifies that `W` is a $3\\times 3$ matrix field."
   ]
  },
  {
   "cell_type": "code",
   "execution_count": null,
   "id": "834a880a-7e79-4c87-9fa1-eb0dac7189ae",
   "metadata": {},
   "outputs": [],
   "source": [
    "print(W.dims)"
   ]
  },
  {
   "cell_type": "markdown",
   "id": "c64aefd5-4826-4866-a61d-b5c2090e7f42",
   "metadata": {},
   "source": [
    "As mentioned previously, `W` has a zero eigenvalue with the normal $\\nu$ as the corresponding eigenvector. Since the other two eigenvalues are the principal curvatures, $\\kappa_i$, their sum equals the trace of `W`. Hence the mean curvature $H$ can be computed using the matrix `Trace`:"
   ]
  },
  {
   "cell_type": "code",
   "execution_count": null,
   "id": "4bac8688-a949-4d47-876d-e0c0215501e5",
   "metadata": {},
   "outputs": [],
   "source": [
    "H = 0.5*Trace(Grad(nu))\n",
    "Draw (H, spheremesh, 'Mean curvature'); "
   ]
  },
  {
   "cell_type": "markdown",
   "id": "74bda7a4-5dd3-4447-b3cf-cc460b1e25c8",
   "metadata": {},
   "source": [
    "Clearly the computed mean curvature agrees with the exact mean curvature up to what appears to be numerical errors. By increasing the `curving_order`  and repeating the above computations, you will see these errors reduce."
   ]
  },
  {
   "cell_type": "markdown",
   "id": "d55b8045-769c-469c-a387-e28405f2032f",
   "metadata": {},
   "source": [
    "To compute the Gauss curvature $K = \\kappa_1 \\kappa_2$ from the singular matrix `W`, one can compute all  eigenvalues of $W$, then isolate the nonzero ones, and take their product. Alternately, one can change $W$'s zero eigenvalue to one and then compute the product of all eigenvalues through a  determinant computation, as done next. The matrix \n",
    "\n",
    "$$\n",
    "\\tilde W = W + \\nu \\nu^t\n",
    "$$\n",
    "\n",
    "continues to have $\\nu$ as an eigenvector but with eigenvalue one. The remainder of its spectrum coincides with that of $W$. Hence\n",
    "\n",
    "$$\n",
    "\\det \\tilde W =  k_1 k_2 = K.\n",
    "$$\n"
   ]
  },
  {
   "cell_type": "code",
   "execution_count": null,
   "id": "160b14a3-d2dd-4d44-acb1-74020479de82",
   "metadata": {},
   "outputs": [],
   "source": [
    "K = Det(W + OuterProduct(nu, nu))\n",
    "Draw (K, spheremesh, 'Gauss curvature'); "
   ]
  },
  {
   "cell_type": "markdown",
   "id": "27bd8787-57a2-46c6-8a51-13f9762e922c",
   "metadata": {},
   "source": [
    "Once we have $H$ and $K$, we can simply solve a quadratic equation to get the principal curvatures $k_1, k_2$. For repeated use, we collect these formulae into a python function next."
   ]
  },
  {
   "cell_type": "code",
   "execution_count": null,
   "id": "78c55fc6-14bc-44e9-aa21-a0bc7510f227",
   "metadata": {},
   "outputs": [],
   "source": [
    "def ExtrinsicCurvatureSmooth(mesh):\n",
    "    \"\"\"    H, K, k1, k2 = ExtrinsicCurvatureSmooth(mesh)\n",
    "    Return mean curvature H, Gauss curvature K, and principal curvatures k1, k2. \n",
    "    \"\"\"\n",
    "    nu = ng.specialcf.normal(3)\n",
    "    W = Grad(nu)\n",
    "    H = 0.5 * Trace(W)\n",
    "    K = Det(W + OuterProduct(nu, nu))\n",
    "    k1 = H + sqrt(H**2 - K)\n",
    "    k2 = H - sqrt(H**2 - K)\n",
    "    return H, K, k1, k2"
   ]
  },
  {
   "cell_type": "markdown",
   "id": "a0f0aba4-ca2a-44da-91a0-5233396d11ce",
   "metadata": {},
   "source": [
    "## Example 2. Curvature of a cylinder"
   ]
  },
  {
   "cell_type": "markdown",
   "id": "e3c8ca18-d313-4b2f-b940-517a3163df94",
   "metadata": {},
   "source": [
    "Let us make a cylinder along the `X` axis of radius `r` and length `h`."
   ]
  },
  {
   "cell_type": "code",
   "execution_count": null,
   "id": "4ca099c0-cd42-4ba2-abc9-f6c0bc7efd5b",
   "metadata": {},
   "outputs": [],
   "source": [
    "cylmesh = Mesh(OCCGeometry(Cylinder((0,0,0), X, r=2, h=3).faces[0]).GenerateMesh(maxh=0.5)).Curve(curving_order)\n",
    "Draw(cylmesh);"
   ]
  },
  {
   "cell_type": "markdown",
   "id": "155da576-5ac0-4bec-b8a9-065a761c8d6b",
   "metadata": {},
   "source": [
    "A cylinder curves in just one direction. Hence we expect one of its principal curvatures to equal zero, and the other equal to the reciprocal of the radius $r$. One can analytically compute\n",
    "\\begin{align*}\n",
    "\\kappa_1 =0, \\quad \\kappa_2 = \\frac{1}{r},\\qquad K=0,\\qquad H=\\frac{1}{2r}.\n",
    "\\end{align*}\n",
    "The cylinder is a surface of *parabolic type* as its Gauss curvature is zero."
   ]
  },
  {
   "cell_type": "code",
   "execution_count": null,
   "id": "b7def0c1-d3ce-4d28-8b2d-c794ac24a182",
   "metadata": {},
   "outputs": [],
   "source": [
    "H, K, k1, k2 = ExtrinsicCurvatureSmooth(cylmesh)\n",
    "Draw(k1, cylmesh, 'k1'); Draw(k2, cylmesh, 'k2');"
   ]
  },
  {
   "cell_type": "markdown",
   "id": "256c0575-69b7-4703-9447-52cafe72a800",
   "metadata": {},
   "source": [
    "### Example 3: Curvature of a pseudosphere"
   ]
  },
  {
   "cell_type": "markdown",
   "id": "999841c3-e427-4428-a84b-d5ca831d97e9",
   "metadata": {},
   "source": [
    "A *hyperbolic surface* has negative Gauss curvature, i.e., its  principal curvatures have opposite signs. A pseudosphere (also known as a [tractroid](https://en.wikipedia.org/wiki/Pseudosphere) since it is the revolution of a tractrix) of negative Gauss curvature\n",
    "\n",
    "$$\n",
    "K = -1\n",
    "$$\n",
    "\n",
    "is given as follows."
   ]
  },
  {
   "cell_type": "code",
   "execution_count": null,
   "id": "0e5649ae-934c-4573-8093-0e54a897c1a4",
   "metadata": {},
   "outputs": [],
   "source": [
    "def gu(u):\n",
    "    return log(tan(u/2)) + cos(u)\n",
    "\n",
    "def mapping(x, y, z):\n",
    "    return (sin(pi/9/2+x*pi/9)*cos(y*2*pi),\n",
    "            sin(pi/9/2+x*pi/9)*sin(y*2*pi),\n",
    "            gu(pi/9/2+x*pi/9) )\n",
    "\n",
    "psphmesh = Mesh(meshing.SurfaceGeometry(mapping).GenerateMesh(quads=False,nx=8,ny=16)).Curve(curving_order)\n",
    "Draw(psphmesh)"
   ]
  },
  {
   "cell_type": "code",
   "execution_count": null,
   "id": "a478d55a-466a-4248-914e-a60249f5c32e",
   "metadata": {},
   "outputs": [],
   "source": [
    "H, K, k1, k2 = ExtrinsicCurvatureSmooth(psphmesh)\n",
    "print('Gauss curvature:')\n",
    "Draw(K, psphmesh, 'K');  \n",
    "print('Principal curvatures:')\n",
    "Draw(k1, psphmesh, 'k1'); Draw(k2, psphmesh, 'k2');"
   ]
  },
  {
   "cell_type": "markdown",
   "id": "33cc88e0-1d0b-45a6-980b-c2e0901fc8b5",
   "metadata": {},
   "source": [
    "## Nonsmooth surfaces\n",
    "\n",
    "When the surface is not smooth, jumps of its normal vector $\\nu$ creates \"distributional\" curvature along the edges where $\\nu$ is discontinuous. Additional terms along such edges are needed to  provide a notion of shape operator for piecewise smooth surfaces. This notion, while important on its own, is also useful in numerical computations that proceed by approximating a smooth surface by a piecewise flat surface. \n"
   ]
  },
  {
   "cell_type": "markdown",
   "id": "196ab45a-0d84-4c91-90d9-4a792b0c3c65",
   "metadata": {},
   "source": [
    "Suppose $\\cl S$ is a piecewise smooth surface that is locally continuous (but not necessarily $C^1$) and is partitioned into a triangulation $\\cl T$. Each element $T$ of the triangulation $\\cl T$ is a smooth surface with a smooth normal $\\nu_T$. But the normal need not be smooth across an edge $E$ shared by two elements $T_\\pm$. Along such an edge, the unit normals from either side make an angle\n",
    "$$\n",
    "\\sphericalangle\\nu := \\cos^{-1}(\\nu_{T_+}, \\nu_{T_-}).\n",
    "$$\n",
    "The jump of the normal as measured by this angle is a source of curvature in the generalization that follows."
   ]
  },
  {
   "cell_type": "markdown",
   "id": "405dbd4c-97fb-4d87-825b-77b335972c34",
   "metadata": {},
   "source": [
    "We define the **generalized Weingarten tensor** of the piecewise smooth surface $\\cl S$, denoted by $\\widetilde{\\nabla_{\\cl S} \\nu}$, as a functional acting on a symmetric matrix fields $\\sigma$, as follows:\n",
    "$$\n",
    "\\widetilde{\\nabla_{\\cl S} \\nu} (\\sigma)\n",
    "= \\sum_{T \\in \\mathcal{T}}\\int_T\\nabla\\nu_T:{\\sigma}\\,ds \n",
    "+ \\sum_{E\\in\\mathcal{E}}\\int_{E} \\sphericalangle\\nu \\; \\mu \\mu^t : {\\sigma}\\,dl\n",
    "$$\n",
    "Here $\\mu = \\nu \\times t$  is a co-normal vector of along an edge $E$  with unit tangent vector $t$,\n",
    "and  $\\sigma$ is taken to be any function in the surface Hellan-Herrmann-Johnson (HHJ) finite element space $M_h$ of order $k-1$ if $k$ is the polynomial order of curving. Such a $\\sigma$ has continuous \n",
    "$ \\sigma_{\\mu\\mu} = (\\sigma \\mu )\\cdot \\mu$\n",
    "across the edges even when $\\mu$ and $\\sigma$ are discontinuous. The sum over edges in the above definition can be rewritten as a sum over element boundaries after introducing an  intermediary averaged normal vector\n",
    "$\\{\\nu\\} = (\\nu_{T_+} +\\nu_{T_-} ) / (\\|\\nu_{T_+} + \\nu_{T_-}\\|) $ and using the angle between  the outward unit co-normal $\\mu$ on and $\\{\\nu\\}$, denoted by $\\sphericalangle^\\mu_{\\{ \\nu\\}}$, as follows:\n",
    "$$\n",
    "\\widetilde{\\nabla_{\\cl S} \\nu} (\\sigma)\n",
    "= \\sum_{T \\in \\mathcal{T}}\\left( \\int_T\\nabla\\nu_T:{\\sigma}\\,ds \n",
    "+ \\int_{\\partial T} \\left(\\frac{\\pi}{2}-\\sphericalangle^\\mu_{\\{ \\nu\\}} \\right)\n",
    "{\\sigma}_{\\mu\\mu}\\,dl \\right)\n",
    "$$\n",
    "We will compute with this  expression as it is numerically more stable when  $\\mu\\cdot\\{\\nu\\} \\approx 0$, an often occurring case when the $\\cl{T}$ approaches a smooth surface $\\cl S$."
   ]
  },
  {
   "cell_type": "markdown",
   "id": "2852c6af-5958-40c0-8976-4f93f44fdcc4",
   "metadata": {},
   "source": [
    "\n",
    "One final issue with such distribution-like functionals is that they cannot be immediately visualized like functions. We must lift the functional to a function-representation which can be visualized as usual in NGSolve. Therefore we compute  the *lifted generalized Weingarten tensor* $\\widetilde W$ as the unique element in $M_h$ such that \n",
    "\\begin{align*}\n",
    "\\int_S\\widetilde W: {\\sigma}\\,ds = \\widetilde{\\nabla_{\\cl S} \\nu} (\\sigma)\n",
    "\\end{align*}\n",
    "holds for all $\\sigma$ in $M_h$. The visualizations below are those of $\\widetilde W$. \n",
    "\n",
    "We begin by implementing the above formula for $\\widetilde{\\nabla_{\\cl S} \\nu}$ as a `LinearForm`-functional on the surface HHJ space, called `HDivDivSurface` in ngsolve. Then, we invert a mass matrix in the HHJ space to  compute the lifting $\\widetilde W$."
   ]
  },
  {
   "cell_type": "code",
   "execution_count": null,
   "id": "6f98ef20-b98b-4be7-ae18-b2396d4a95f6",
   "metadata": {},
   "outputs": [],
   "source": [
    "def GeneralizedWeingarten(mesh, lifting_order=curving_order-1):\n",
    "\n",
    "    # Orthonormal (nu, t, mu) system (used on element boundaries)\n",
    "    nu = ng.specialcf.normal(3)\n",
    "    t = ng.specialcf.tangential(3)\n",
    "    mu = Cross(nu, t)\n",
    "\n",
    "    # HHJ space on surface: \n",
    "    liftWspace = HDivDivSurface(mesh, order=lifting_order)\n",
    "    sigma, tau = liftWspace.TnT()\n",
    "    sigma, tau = sigma.Trace(), tau.Trace()\n",
    "\n",
    "    # Average normal vector nu_avg = (nu_+  + nu_-)/2\n",
    "    nu_avg = GridFunction(ng.VectorFacetSurface(mesh, order=lifting_order))\n",
    "    nu_avg.Set(nu, dual=True, definedon=mesh.Boundaries(\".*\"))\n",
    "\n",
    "    # Sources for generalized Weingarten tensor\n",
    "    f = LinearForm(liftWspace)\n",
    "    f += InnerProduct(Grad(nu), tau) * ds\n",
    "    f += (pi / 2 - acos(Normalize(nu_avg) * mu)) * tau[mu, mu]  \\\n",
    "        * ds(element_boundary=True)\n",
    "\n",
    "    # Lift distributional W into HDivDivSurface space\n",
    "    a = BilinearForm(InnerProduct(sigma, tau) * ds, symmetric=True)\n",
    "    liftW = GridFunction(liftWspace)\n",
    "    with ng.TaskManager():\n",
    "        a.Assemble()\n",
    "        f.Assemble()\n",
    "        liftW.vec.data =  \\\n",
    "            a.mat.Inverse(liftWspace.FreeDofs(),\n",
    "                          inverse=\"sparsecholesky\") * f.vec\n",
    "\n",
    "    return liftW"
   ]
  },
  {
   "cell_type": "markdown",
   "id": "96db47e4-1527-4f1f-8955-932010e32099",
   "metadata": {},
   "source": [
    "As an example, we consider a smooth surface, an ellipse, whose smooth mean curvature looks like this:"
   ]
  },
  {
   "cell_type": "code",
   "execution_count": null,
   "id": "c99155b2-cf92-4d2e-80b9-04c21d37b54a",
   "metadata": {},
   "outputs": [],
   "source": [
    "ell = Ellipsoid(Axes((0, 0, 0), X, Y), r1=1, r2=1.5, r3=0.8).faces[0]\n",
    "\n",
    "# Draw the smooth Weingarten tensor for viewing the exact baseline:\n",
    "ellipsemesh = Mesh(OCCGeometry(ell).GenerateMesh(maxh=1)).Curve(5)\n",
    "Draw(ExtrinsicCurvatureSmooth(ellipsemesh)[0], ellipsemesh);"
   ]
  },
  {
   "cell_type": "markdown",
   "id": "9ff3e3bd-0eb7-4392-9eff-b435279e7bac",
   "metadata": {},
   "source": [
    "Now we approximate the smooth ellipse by a *piecewise flat* surface. "
   ]
  },
  {
   "cell_type": "code",
   "execution_count": null,
   "id": "4ae35f2b-913d-4d68-ae30-5e384a95172f",
   "metadata": {},
   "outputs": [],
   "source": [
    "Draw(Mesh(OCCGeometry(ell).GenerateMesh(maxh=0.5)).Curve(1));"
   ]
  },
  {
   "cell_type": "markdown",
   "id": "56ef2c67-5bd9-4440-a209-7295209a5a45",
   "metadata": {},
   "source": [
    "If we only account for the Weingarten tensor within elements, then we obtain zero curvatures! Clearly, for piecewise flat manifolds, all the curvature information resides in the edge contributions.  So we use the above-mentioned (lifted) generalized Weingarten tensor to compute an approximation to the mean curvature."
   ]
  },
  {
   "cell_type": "code",
   "execution_count": null,
   "id": "c58b8889-f64b-4a85-b035-1ca2a200ef09",
   "metadata": {},
   "outputs": [],
   "source": [
    "def DrawMeanCurvatureApprox(maxh=0.5, order=1):\n",
    "    ellmesh = Mesh(OCCGeometry(ell).GenerateMesh(maxh=maxh)).Curve(order)\n",
    "    W = GeneralizedWeingarten(ellmesh, lifting_order=order-1)\n",
    "    Draw(0.5 * Trace(W), ellmesh);\n",
    "    return W"
   ]
  },
  {
   "cell_type": "code",
   "execution_count": null,
   "id": "0ca53d0b-7927-4e0e-abb4-2a494ccc622c",
   "metadata": {},
   "outputs": [],
   "source": [
    "DrawMeanCurvatureApprox(maxh=0.5);"
   ]
  },
  {
   "cell_type": "markdown",
   "id": "ec06aaa8-884f-497a-99d4-88a2d76439b2",
   "metadata": {},
   "source": [
    "On a finer mesh, the approximation improves."
   ]
  },
  {
   "cell_type": "code",
   "execution_count": null,
   "id": "6e7c4619-9623-46c3-b563-30476f39f77f",
   "metadata": {},
   "outputs": [],
   "source": [
    "DrawMeanCurvatureApprox(maxh=0.1);"
   ]
  },
  {
   "cell_type": "markdown",
   "id": "31f65b7b-243f-4a71-97aa-3380aad2f8a9",
   "metadata": {},
   "source": [
    "Clearly, as the mesh size gets finer, the approximation appears to converge to the smooth mean curvature of the original smooth ellipse. "
   ]
  }
 ],
 "metadata": {
  "kernelspec": {
   "display_name": "Python 3 (ipykernel)",
   "language": "python",
   "name": "python3"
  },
  "language_info": {
   "codemirror_mode": {
    "name": "ipython",
    "version": 3
   },
   "file_extension": ".py",
   "mimetype": "text/x-python",
   "name": "python",
   "nbconvert_exporter": "python",
   "pygments_lexer": "ipython3",
   "version": "3.11.6"
  }
 },
 "nbformat": 4,
 "nbformat_minor": 5
}
